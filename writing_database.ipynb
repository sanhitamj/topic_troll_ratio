{
 "cells": [
  {
   "cell_type": "code",
   "execution_count": 1,
   "metadata": {
    "collapsed": true
   },
   "outputs": [],
   "source": [
    "import requests\n",
    "from pymongo import MongoClient\n",
    "import re\n",
    "import time\n",
    "from bs4 import BeautifulSoup\n",
    "from selenium import webdriver\n",
    "from selenium.webdriver.common.keys import Keys\n",
    "import urllib2\n",
    "import sys"
   ]
  },
  {
   "cell_type": "markdown",
   "metadata": {},
   "source": [
    "## To write down all the urls to be scraped for articles and comments"
   ]
  },
  {
   "cell_type": "code",
   "execution_count": 12,
   "metadata": {
    "collapsed": false
   },
   "outputs": [
    {
     "name": "stdout",
     "output_type": "stream",
     "text": [
      "Total number of links stored is  29\n"
     ]
    }
   ],
   "source": [
    "# url = \"https://www.theguardian.com/us/commentisfree\"\n",
    "\n",
    "# Which links to look for.\n",
    "\n",
    "# years = [\"2015\", \"2016\", \"2017\"]\n",
    "# months = [\"jan\", \"feb\", \"mar\", \"apr\", \"may\", \"jun\", \"jul\", \"aug\", \"sep\", \"oct\", \"nov\", \"dec\"]\n",
    "# dates = [str(n) for n in xrange(1,28)]\n",
    "\n",
    "years = [\"2017\"]\n",
    "months = [\"oct\"]\n",
    "dates = [str(31)]\n",
    "\n",
    "\n",
    "# count of number of links\n",
    "i = 0\n",
    "\n",
    "# Initiating mongoDB. Using pymongo to connect the database\n",
    "client = MongoClient()\n",
    "db = client[\"guardian\"] #This is the name of the database\n",
    "urls = db[\"urls\"] # this is the table in that database\n",
    "\n",
    "result = db.urls.delete_many({}) # A fresh start to the DB table -> removing all entries \n",
    "all_links = []\n",
    "\n",
    "for month in months:\n",
    "    for date in dates:\n",
    "        root_url = \"https://www.theguardian.com/commentisfree/2016/\" + month + \"/\" + date \n",
    "        \n",
    "        # This one contains all the URLs. Soup extracts those.\n",
    "        list_of_urls = requests.get(root_url).text\n",
    "        soup = BeautifulSoup(list_of_urls, \"html.parser\")\n",
    "\n",
    "        # the .findAll method from re finds the _content_ that has \n",
    "        # html tag - 'a', attribute - 'href' and \n",
    "        # the pattern that begins with the root_url variable\n",
    "        for link in soup.findAll('a', attrs={'href': re.compile(root_url)}):\n",
    "            all_links.append(link.get('href'))\n",
    "            \n",
    "all_links = set(all_links)\n",
    "for n, link in enumerate(all_links):\n",
    "    # urls is the name of the mongo DataBase. insert_one is the method \n",
    "    if n < 2:\n",
    "        urls.insert_one({\"id\" : i, \"url\" : link})\n",
    "#             print link\n",
    "    i += 1\n",
    "print \"Total number of links stored is \", i"
   ]
  },
  {
   "cell_type": "markdown",
   "metadata": {},
   "source": [
    "## To download comments from guardian website"
   ]
  },
  {
   "cell_type": "code",
   "execution_count": 3,
   "metadata": {
    "collapsed": true
   },
   "outputs": [],
   "source": [
    "def download_comments(guardianLink):\n",
    "    '''\n",
    "    This function downloads the comments, along with title, topic of the original thread\n",
    "    comment_id, no_upvotes, no_replies, comment_author, comment_author_id, etc\n",
    "    Returns BeautifulSoup; need more extraction from the soup for the above-mentioned \n",
    "    parameters\n",
    "    \n",
    "    '''\n",
    "        \n",
    "    #Figuring out the PageId\n",
    "    pageResponse = urllib2.urlopen(guardianLink)\n",
    "    commentsMatch = re.search(r'/p/(.*?)\"', pageResponse.read(), re.M|re.I)\n",
    "    # print \"Comments Match = \", commentsMatch()\n",
    "    if commentsMatch:\n",
    "        pageId = commentsMatch.group(1)\n",
    "        print '[+] pageId has been retrieved ('+pageId+')'\n",
    "    else:\n",
    "        sys.exit('[-] Could not retrieve pageId!')\n",
    "\n",
    "    #Retrieving comments\n",
    "    downloadCount = 1\n",
    "    downloadError = 0\n",
    "\n",
    "    text = ''\n",
    "\n",
    "    while downloadError == 0:\n",
    "        try:\n",
    "            response = urllib2.urlopen('http://www.theguardian.com/discussion/p/' + pageId \n",
    "                                       + '?page=' + str(downloadCount))\n",
    "            html = response.read()\n",
    "            length = len(text)\n",
    "            text += html\n",
    "            downloadCount = downloadCount + 1\n",
    "\n",
    "        except:\n",
    "            downloadError = 1\n",
    "\n",
    "    return BeautifulSoup(text, 'html.parser')"
   ]
  },
  {
   "cell_type": "markdown",
   "metadata": {},
   "source": [
    "## To extract data from soup\n",
    "\n",
    "#### Returns a list of lists - comment_od, comment_text, author_id, author_name, number_of_upvotes"
   ]
  },
  {
   "cell_type": "code",
   "execution_count": 4,
   "metadata": {
    "collapsed": true
   },
   "outputs": [],
   "source": [
    "def getting_comment_data(soup):\n",
    "    '''\n",
    "    This function takes in the soup of comments. Returns a list of list. \n",
    "    Each element in the list is a list of -\n",
    "    comment_id, comment, author_id, author, number_of_upvotes\n",
    "    \n",
    "    '''\n",
    "       \n",
    "    auth_name_lst = []\n",
    "    comm_id_lst = []\n",
    "    auth_id_lst = []\n",
    "    for lis in soup.find_all('li'):\n",
    "        if 'data-comment-author-id' in (lis.attrs) and 'data-comment-id' in (lis.attrs)and 'data-comment-author' in (lis.attrs):\n",
    "            auth_name_lst.append(lis.attrs['data-comment-author'].encode('utf-8').replace(\"  \", \" \"))\n",
    "            auth_id_lst.append(int(lis.attrs['data-comment-author-id']))\n",
    "            comm_id_lst.append(int(lis.attrs['data-comment-id']))\n",
    "\n",
    "    comments_text = soup.findAll(\"div\", { \"class\" : \"d-comment__body\" })\n",
    "    recommends = soup.findAll(\"span\", {\"class\" : \"d-comment__recommend-count--old\"})\n",
    "    users = soup.findAll(\"span\", {\"itemprop\" : \"givenName\"})\n",
    "\n",
    "    comment_data_list = []\n",
    "    comment_text_list = []\n",
    "    comment_id_list = []\n",
    "    author_id_list = []\n",
    "    author_name_list = []\n",
    "    upvotes_count_list = []\n",
    "\n",
    "    i = 0\n",
    "    j = 0\n",
    "    for comment_text, upvotes, user, auth_name, auth_id, comment_id in zip(comments_text, recommends, users, auth_name_lst, auth_id_lst, comm_id_lst):\n",
    "        i += 1\n",
    "        if 'comment was removed by a moderator ' not in comment_text.text:\n",
    "            j += 1\n",
    "#             This is the count of comments not removed by the moderator\n",
    "                    \n",
    "\n",
    "#             if auth_name.strip() != user.text.encode('utf-8').strip():\n",
    "#                 print \"something is broken for -\"+ auth_name.strip()+ \"-\"+ user.text.encode('utf-8').strip()\n",
    "#             else :\n",
    "            if not upvotes.txt:\n",
    "                upvote = 0\n",
    "            else : \n",
    "                upvote = int(upvotes.txt)\n",
    "            comment_text_list.append(comment_text.text)\n",
    "            comment_id_list.append(comment_id)\n",
    "            author_id_list.append(auth_id)\n",
    "            author_name_list.append(auth_name)\n",
    "            upvotes_count_list.append(upvote)            \n",
    "\n",
    "    return comment_text_list, comment_id_list, author_id_list, auth_name_lst, upvotes_count_list"
   ]
  },
  {
   "cell_type": "markdown",
   "metadata": {},
   "source": [
    "### To extract topic(s) and text of an article"
   ]
  },
  {
   "cell_type": "code",
   "execution_count": 5,
   "metadata": {
    "collapsed": true
   },
   "outputs": [],
   "source": [
    "def article_topics_title(url):\n",
    "    '''\n",
    "    Given a URL, this function returns topics and contents of the article\n",
    "    \n",
    "    '''\n",
    "\n",
    "    soup = BeautifulSoup(requests.get(url).text, 'html.parser')\n",
    "\n",
    "    topic_list = [topic.attrs['data-link-name'][9:] for topic in soup.findAll(\"a\", {\"class\" : \"submeta__link\"})\n",
    "        if 'data-link-name' in topic.attrs and 'keyword: ' in topic.attrs['data-link-name']]\n",
    "\n",
    "    for title in soup.find(\"h1\", {\"class\" : \"content__headline\"}):\n",
    "        title = str(title.strip().encode('utf-8'))\n",
    "        \n",
    "\n",
    "    for tag in soup.find_all('svg'):\n",
    "        tag.decompose()\n",
    "    for tag in soup.find_all('figure'):\n",
    "        tag.decompose()\n",
    "    for tag in soup.find_all('aside'):\n",
    "        tag.decompose()\n",
    "    for tag in soup.find_all('span'):\n",
    "        tag.decompose()\n",
    "    \n",
    "    article = [str(s) for s in soup.find(\"div\", {\"class\" : \"content__article-body from-content-api js-article__body\"})]\n",
    "    \n",
    "  \n",
    "    return topic_list, article, title"
   ]
  },
  {
   "cell_type": "code",
   "execution_count": 16,
   "metadata": {
    "collapsed": false
   },
   "outputs": [
    {
     "name": "stdout",
     "output_type": "stream",
     "text": [
      "Working on this link https://www.theguardian.com/commentisfree/2016/oct/31/prevent-save-lives-families-child-terrorism-programme\n",
      "[+] pageId has been retrieved (5a2f2)\n",
      "\n",
      "Hear us out before you knock Prevent – we’re trying to save lives\n",
      "\n",
      "Working on this link https://www.theguardian.com/commentisfree/2016/oct/31/i-took-a-prescription-pill-to-get-a-lot-of-work-done-quickly-heres-what-happened\n",
      "[+] pageId has been retrieved (5a4xa)\n",
      "\n",
      "I took a prescription pill to get a lot of work done quickly. Here's what happened\n",
      "\n"
     ]
    }
   ],
   "source": [
    "cursor = urls.find({})\n",
    "for document in cursor: \n",
    "    url = str(document['url'])\n",
    "    id_n = document['_id']\n",
    "    print \"Working on this link\", url\n",
    "    \n",
    "    soup = download_comments(url)\n",
    "    #     comment_text_list, comment_id_list, author_id_list, auth_name_lst, upvotes_count_list\n",
    "    comment_text_list, comment_id_list, author_id_list, auth_name_lst, upvotes_count_list = getting_comment_data(soup)\n",
    "       \n",
    "    topics_list, article, title = article_topics_title(url)\n",
    "    print \"Title of the article is: \", title\n",
    "    \n",
    "    urls.update_one({'url': url}, \n",
    "                    {\"$set\": {'title': title, 'article' : article, 'topics_list': topics_list,\n",
    "                             'comment_ids' : comment_id_list, 'comment_text' : comment_text_list,\n",
    "                             'author_ids' : author_id_list, 'author_name' : auth_name_lst,\n",
    "                             'upvotes' : upvotes_count_list}}, upsert=True)"
   ]
  },
  {
   "cell_type": "code",
   "execution_count": 14,
   "metadata": {
    "collapsed": false
   },
   "outputs": [
    {
     "data": {
      "text/plain": [
       "2"
      ]
     },
     "execution_count": 14,
     "metadata": {},
     "output_type": "execute_result"
    }
   ],
   "source": [
    "urls.count()"
   ]
  },
  {
   "cell_type": "code",
   "execution_count": 15,
   "metadata": {
    "collapsed": false
   },
   "outputs": [
    {
     "name": "stdout",
     "output_type": "stream",
     "text": [
      "{u'_id': ObjectId('5a05d32b817c910f25350538'),\n",
      " u'article': [u'\\n',\n",
      "              u'<p> teenage boy from the Midlands, bright and with his whole life ahead of him, fell in with the wrong crowd. Two members of his increasingly radical peer group went to fight in Syria. He wanted to follow them before officers from Prevent, the government-led anti-terrorism programme, intervened.</p>',\n",
      "              u'\\n',\n",
      "              u'\\n',\n",
      "              u'<p>The young man, I\\u2019m pleased to say, responded well to mentoring. He is now enjoying university and has the sort of life ambitions most parents \\u2013 myself included \\u2013 hope their children will have. I also believe most mums and dads hope someone will want to help if their child starts taking a dangerous path. What happened to his friends in Syria? They died in the conflict.</p>',\n",
      "              u'\\n',\n",
      "              u'<p>So why is there such a lack of balance in the debate around Prevent, introduced as part of the government\\u2019s post-9/11 counter-terrorism strategy, a laudable, voluntary diversionary scheme that is the envy of many other nations?</p>',\n",
      "              u'\\n',\n",
      "              u'<p>When I became the National Police Chiefs\\u2019 Council lead for this area of policing nine months ago, I was determined to engage in the conversation, not only with colleagues working to protect people day-in-day-out, or international delegates visiting our units, but with critics including academics, community leaders and human rights campaigners. Many of the most vocal opponents struck me as <a class=\"u-underline\" data-link-name=\"in body link\" href=\"https://www.theguardian.com/politics/2016/apr/21/government-prevent-strategy-promoting-extremism-maina-kiai\" title=\"\">genuinely concerned about perceptions of Prevent</a>, yet were often unwilling to confront some of the realities it deals with every day.</p>',\n",
      "              u'\\n',\n",
      "              u'<p>In my efforts to address those concerns I have <a class=\"u-underline\" data-link-name=\"in body link\" href=\"https://www.theguardian.com/uk-news/2016/mar/09/prevent-strategy-stifles-debate-and-makes-teachers-feel-vulnerable\" title=\"\">listened to lots of people and spoken at numerous events</a>, sharing platforms with organisations that vociferously condemn the programme. And I have found the time to speak at length with academic researchers who surprise me when they then repeat discredited stories that are palpably misrepresented as evidence of Prevent\\u2019s problems.</p>',\n",
      "              u'\\n',\n",
      "              u'<p>Not to be deterred, I continue to talk about real cases where young people\\u2019s lives have been enhanced \\u2013 if not saved \\u2013 as a result of intervention from Prevent officers. I also talk about the \\u201cif only\\u201d families. This is what I tell people: no child has ever been visited by a Prevent team because he drew a picture of his dad cutting up a cucumber, as one tabloid reported. Similarly, no child has been visited by a Prevent team because he wore a badge supporting a Palestinian cause. The kind of children who have been visited by a Prevent team have aspired to travel to Syria to join friends who were later killed in the fighting, or were on their way to becoming a young bride of an <a class=\"u-underline\" data-component=\"auto-linked-tag\" data-link-name=\"auto-linked-tag\" href=\"https://www.theguardian.com/world/isis\">Islamic State</a> fighter, or joining a battalion of young women fighting against Isis, or been on the path to becoming rightwing extremists seeking to damage community cohesion.</p>',\n",
      "              u'\\n',\n",
      "              u'<p>Prevent teams have also visited the parents of children who had not been referred to us, and consoled them over the violent deaths of their sons. Prevent\\xa0teams have told mothers they will have no bodies to bury \\u2013 and informed fathers their loved ones have been arrested for terrorism offences and face long jail terms.</p>',\n",
      "              u'\\n',\n",
      "              u'\\n',\n",
      "              u'<p>But sadly, these accounts rarely make the cut in the reports, analysis and interviews. The stories I have shared are not debated, probed or challenged \\u2013 they are simply ignored. Why is that? Does Prevent not shout its successes loudly enough, are we too concerned about breaching confidentiality and don\\u2019t quickly put the record straight, or does it simply not suit certain agendas to look a little deeper? If we are to give communities a true picture of what Prevent is about, then these stories must be told.</p>',\n",
      "              u'\\n',\n",
      "              u'<p>I know that Prevent isn\\u2019t perfect. I have <a class=\"u-underline\" data-link-name=\"in body link\" href=\"https://www.theguardian.com/commentisfree/2016/oct/20/prevent-isnt-working-inclusive-muslim-communities-counter-terrorism\" title=\"\">heard this consistently from community members</a> I very much respect. Prevent needs to improve; we seek to learn, progress and to do the police part of it even better. The trust and confidence of our communities will never be taken for granted.</p>',\n",
      "              u'\\n',\n",
      "              u'<p>Like all public bodies, Prevent teams have a legal duty and moral obligation to keep people safe. This is not an abstract issue; it is needed here and now to safeguard vulnerable people. It works best when rooted in local communities.</p>',\n",
      "              u'\\n',\n",
      "              u'<p>Knocking Prevent is easy; what is hard is to pick up the phone and start to help to safeguard someone who otherwise may be making choices that affect them, their families and their communities for many years to come. That phone is ringing in Prevent offices up and down the country right now.</p>',\n",
      "              u'\\n'],\n",
      " u'id': 0,\n",
      " u'title': u'Hear us out before you knock Prevent \\u2013 we\\u2019re trying to save lives',\n",
      " u'topics_list': [u'uk/uksecurity', u'world/isis'],\n",
      " u'url': u'https://www.theguardian.com/commentisfree/2016/oct/31/prevent-save-lives-families-child-terrorism-programme'}\n",
      "{u'_id': ObjectId('5a05d32b817c910f25350539'),\n",
      " u'article': [u'\\n',\n",
      "              u'<p>A few years ago I went to my doctor to prepare for a fast I was doing for a magazine article.<br/></p>',\n",
      "              u'\\n',\n",
      "              u'<p>\\u201cIs there anything you can suggest to help my body adjust to not eating?\\u201d I asked my doctor. She wrote out a prescription and said, \\u201cThis.\\u201d</p>',\n",
      "              u'\\n',\n",
      "              u'<p>\\u201cThis\\u201d was expensive. It cost $100 to get it filled but my doctor assured me it would suppress my appetite and get me used to a period of time without food.</p>',\n",
      "              u'\\n',\n",
      "              u'<p>I only took one pill but it freaked me out so badly I shoved the rest to the back of the medicine cabinet. What was this horrific stuff? I couldn\\u2019t believe that my doctor had prescribed it. Lines of speed snorted from the cistern in a nightclub toilet apparently provided a smoother ride than this pill that I could buy legally.</p>',\n",
      "              u'\\n',\n",
      "              u'\\n',\n",
      "              u'<p>\\u201cWhat happened to your pupils?\\u201d asked one friend I met at the theatre two days later. They were still the size of dinner plates.</p>',\n",
      "              u'\\n',\n",
      "              u'<p> This drug not only made my appetite disappear but it made me hyper-focused, energetic and uncharacteristically enthusiastic about cleaning.</p>',\n",
      "              u'\\n',\n",
      "              u'<p>Yet it also made me feel terrible. I was under a cloud of neg. I couldn\\u2019t imagine anyone taking these pills for a good time. In fact, they almost guaranteed you would have an awful time. The anxiety was the worst. Everything became suffused with a sort of swampy dread.</p>',\n",
      "              u'\\n',\n",
      "              u'<p>Yet despite hating them, I sensed the pills were filled with secret powers for uses they were not intended for. I decided \\u2013 perhaps unwisely \\u2013 not to throw them out.</p>',\n",
      "              u'\\n',\n",
      "              u'<p>And now I read that I was not alone in this thinking. <a class=\"u-underline\" data-link-name=\"in body link\" href=\"http://www.smh.com.au/national/education/hsc-students-use-drugs-to-get-through-exams-20161010-gryydk.html\">The Sydney Morning Herald has reported</a> that prescription drug use by students before exams is on the increase, a trend first seen in the US. Chris Seton, a paediatric and adolescent sleep physician at the Woolcock Institute and Westmead Children\\u2019s Hospital, told Fairfax that drugs such as ritalin and modafinil were being used in Australian classrooms. <a class=\"u-underline\" data-link-name=\"in body link\" href=\"https://www.theguardian.com/education/2016/mar/01/in-their-own-words-students-share-their-views-on-smart-drugs\">An increase in the use of the same drugs has been reported in the UK</a>.</p>',\n",
      "              u'\\n',\n",
      "              u'<p>Ritalin is used to treat attention deficit disorders while modafinil is used to treat sleep disorders such as narcolepsy. Their use as study aids, or \\u201csmart drugs\\u201d, shows that many students now think of<strong> </strong>them as performance-enhancing drugs for the brain.</p>',\n",
      "              u'\\n',\n",
      "              u'<p>Last Monday, with the manuscript of a book due in three weeks and my pace and energy flagging, I decided to break open my \\u201cin case of emergency\\u201d stash of pills.<strong> </strong>While the drug I was prescribed was not ritalin or modafinil, it shares some similar side effects.</p>',\n",
      "              u'\\n',\n",
      "              u'<p>This is what happened.</p>',\n",
      "              u'\\n',\n",
      "              u'<h2>I got all my work done</h2>',\n",
      "              u'\\n',\n",
      "              u'<p> This part of writing a book is largely organisational, and I\\u2019d been putting it off. The task involves a large amount of focus \\u2013 being able to hold lots of information about the project in my head at once \\u2013 and discarding the bits I do not need or are repetitive. Normally I would allocate a couple of weeks to this grim task but this time I am going to try and break the back of it in two days.</p>',\n",
      "              u'\\n',\n",
      "              u'<p>In a bizarre coincidence, just after I took the pill, I heard a segment about abuse of prescription medication on the radio. The program interviewed a number of people who \\u2013 just like me \\u2013 are misusing prescription drugs to get a large amount of work done in a short amount of time.</p>',\n",
      "              u'\\n',\n",
      "              u'<p>\\u201cUsers describe feeling a speedy high that helps them concentrate for hours on the task at hand, whether that be a uni assignment, major work project or staying awake at gigs,\\u201d <a class=\"u-underline\" data-link-name=\"in body link\" href=\"http://www.abc.net.au/radionational/programs/lifematters/are-ritalin-and-dexies-getting-you-through-the-working-day-(and/7958774\">read the program\\u2019s promo.</a></p>',\n",
      "              u'\\n',\n",
      "              u'<p>I wonder what it says about this moment in history, that we are abusing drugs so we can get more work done? I did get a lot of work done.</p>',\n",
      "              u'\\n',\n",
      "              u'<h2>I got no sleep</h2>',\n",
      "              u'\\n',\n",
      "              u'<p>Before I took the pill, I set my alarm for 5am because I knew from previously taking it that it lasts and lasts, and unless I took it it really early in the morning, I would not get any sleep. <br/></p>',\n",
      "              u'\\n',\n",
      "              u'<p>At the end of day one, I was still working on the project at around midnight and did not feel fatigued. I achieved a lot. I woke around 4am the following day, full of energy. I sent dozens of emails, including answering tricky emails I had put off, then decided to buy some outdoor furniture. It\\u2019s a big purchase that I had been considering for months. But in action-mode on my \\u201csmart drug\\u201d I decided to finally tick it off my list and bought a six-seater outdoor table with cushions and an umbrella. </p>',\n",
      "              u'\\n',\n",
      "              u'<h2>Prescription drug forums are really interesting</h2>',\n",
      "              u'\\n',\n",
      "              u'<p>Since my doctor didn\\u2019t tell me much about the drug she had prescribed me, I Googled it and found a forum. People who are taking the drug as an appetite suppressant were reporting mood swings, anxiety, sleeplessness, weight loss and the urge to clean. Every now and again someone jumped on the thread and issued warnings in caps such as, \\u201cSTAY AWAY FROM THIS DRUG \\u2013 IT MADE ME A SLEEPLESS AND CRAZY MONSTER.\\u201d</p>',\n",
      "              u'\\n',\n",
      "              u'<h2>The energy is false</h2>',\n",
      "              u'\\n',\n",
      "              u'<p>On day one, I was well on my way to doing a week\\u2019s worth of work. Plus I\\u2019d cleaned the house! I swept and mopped. Then I went to the gym. The trainer gave me the 6kg weights to lift and I could only manage four reps. Before taking the pill, I was lifting 8kg. </p>',\n",
      "              u'\\n',\n",
      "              u'<p>\\u201cYou\\u2019re much weaker today,\\u201d she said, looking concerned. </p>',\n",
      "              u'\\n',\n",
      "              u'<p>\\u201cI haven\\u2019t had much to eat,\\u201d I admitted. I did not tell her about the pill. </p>',\n",
      "              u'\\n',\n",
      "              u'<p>I slunk out of the gym. Some things can\\u2019t be manipulated \\u2013 muscles need protein for fuel.</p>',\n",
      "              u'\\n',\n",
      "              u'<h2>What goes up must come down</h2>',\n",
      "              u'\\n',\n",
      "              u'<p>On the second day, I called a friend to tell her about all the great things I bought online during my day of unbound energy.<strong> </strong>It was a weird list: a bicycle helmet, tennis racquet, a foam roller, two bookshelves, a wardrobe, boxes for shoes, an outdoor table setting, a shade cloth, an umbrella, 12 cushions. </p>',\n",
      "              u'\\n',\n",
      "              u'\\n',\n",
      "              u'<p>\\u201cYou bought a helmet?\\u201d she asked. I do not have a bike.</p>',\n",
      "              u'\\n',\n",
      "              u'<p>Then I noticed I had purchased two six-piece outdoor furniture settings. It was like I was setting up a cafe or something. I called the store, embarrassed, and cancelled the entire order.</p>',\n",
      "              u'\\n',\n",
      "              u'<p>\\u201cYeah, I don\\u2019t need two lots of outdoor furniture. It was a mistake.\\u201d</p>',\n",
      "              u'\\n',\n",
      "              u'<p>By about 4pm, my energy was fading. I had been working on the same sentence for an hour, and then a colleague advised: \\u201cClose the computer. You need to sleep. Your brain needs respite for a while.\\u201d</p>',\n",
      "              u'\\n',\n",
      "              u'<p>I slept for a couple of hours, then headed back to the gym. I was still weak, so I abandoned my workout.</p>',\n",
      "              u'\\n',\n",
      "              u'<p>By day three, my appetite was back to normal, and I returned to my usual unfocused self. My magic powers had deserted me. But were they really magic or were they the equivalent of taking out a payday loan? It\\u2019ll get you through what you need to get through today \\u2013 but you\\u2019ll pay through the nose, with interest, tomorrow.</p>',\n",
      "              u'\\n',\n",
      "              u'<p>It turns out you can\\u2019t sleep for four hours in two days without paying a price.</p>',\n",
      "              u'\\n',\n",
      "              u'<p>I was fast asleep by 6pm, which meant losing precious hours that I could be working on my manuscript. I vowed not to take the pills again.</p>',\n",
      "              u'\\n'],\n",
      " u'id': 1,\n",
      " u'title': u\"I took a prescription pill to get a lot of work done quickly. Here's what happened\",\n",
      " u'topics_list': [],\n",
      " u'url': u'https://www.theguardian.com/commentisfree/2016/oct/31/i-took-a-prescription-pill-to-get-a-lot-of-work-done-quickly-heres-what-happened'}\n"
     ]
    }
   ],
   "source": [
    "from pprint import pprint\n",
    "cursor = urls.find({})\n",
    "for document in cursor: \n",
    "    pprint(document)\n"
   ]
  },
  {
   "cell_type": "code",
   "execution_count": null,
   "metadata": {
    "collapsed": true
   },
   "outputs": [],
   "source": [
    "startTime = time.time()\n",
    "stopTime = time.time()\n",
    "runningTime = (stopTime - startTime)/60;\n",
    "print '[=] ' + str(downloadCount-1) + ' pages have been downloaded in ' + str(round(runningTime,2)) + ' minutes'\n"
   ]
  }
 ],
 "metadata": {
  "kernelspec": {
   "display_name": "Python 2",
   "language": "python",
   "name": "python2"
  },
  "language_info": {
   "codemirror_mode": {
    "name": "ipython",
    "version": 2
   },
   "file_extension": ".py",
   "mimetype": "text/x-python",
   "name": "python",
   "nbconvert_exporter": "python",
   "pygments_lexer": "ipython2",
   "version": "2.7.13"
  }
 },
 "nbformat": 4,
 "nbformat_minor": 2
}
