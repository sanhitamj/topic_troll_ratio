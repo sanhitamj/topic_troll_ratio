{
 "cells": [
  {
   "cell_type": "code",
   "execution_count": 1,
   "metadata": {},
   "outputs": [],
   "source": [
    "import pandas as pd\n",
    "import numpy as np\n",
    "\n",
    "from pymongo import MongoClient\n",
    "import re\n",
    "import time"
   ]
  },
  {
   "cell_type": "code",
   "execution_count": 2,
   "metadata": {},
   "outputs": [],
   "source": [
    "client = MongoClient()\n",
    "db = client[\"guardian\"] #This is the name of the database\n",
    "urls = db[\"urls\"] # this is the table in that database"
   ]
  },
  {
   "cell_type": "code",
   "execution_count": 38,
   "metadata": {},
   "outputs": [
    {
     "name": "stdout",
     "output_type": "stream",
     "text": [
      "13303 101\n"
     ]
    }
   ],
   "source": [
    "cursor = urls.find({}, no_cursor_timeout= True)\n",
    "i = 0\n",
    "j = 0\n",
    "klist = []\n",
    "vlist = []\n",
    "for document in cursor: \n",
    "    for k, v in document.iteritems():\n",
    "        if k == 'url':\n",
    "#         klist.append(k)\n",
    "            vlist.append(v)\n",
    "            i += 1\n",
    "        if k =='title':\n",
    "            vlist.append(v)\n",
    "            j += 1\n",
    "        \n",
    "print i, j"
   ]
  },
  {
   "cell_type": "code",
   "execution_count": 29,
   "metadata": {},
   "outputs": [
    {
     "data": {
      "text/plain": [
       "0"
      ]
     },
     "execution_count": 29,
     "metadata": {},
     "output_type": "execute_result"
    }
   ],
   "source": [
    "url_list = []\n",
    "for document in cursor:\n",
    "    url_list.append(document['article'])\n",
    "    \n",
    "len(url_list)"
   ]
  },
  {
   "cell_type": "code",
   "execution_count": 22,
   "metadata": {},
   "outputs": [
    {
     "data": {
      "text/plain": [
       "13303"
      ]
     },
     "execution_count": 22,
     "metadata": {},
     "output_type": "execute_result"
    }
   ],
   "source": [
    "urls.count()"
   ]
  },
  {
   "cell_type": "code",
   "execution_count": 24,
   "metadata": {},
   "outputs": [
    {
     "name": "stdout",
     "output_type": "stream",
     "text": [
      "u'These leaks show Jeremy Hunt\\u2019s deception over the seven-day NHS'\n",
      "u'Ruth Davidson, it\\u2019s been a real privilege...'\n",
      "u'The Tories are trying to kill off our renewable energy boom'\n",
      "u'Syrians risked it all in a deadly game of poker. Assad had the better hand'\n",
      "u'Pope Francis: The Earth, our home, is beginning to look like an immense pile of filth'\n",
      "u'As a blind person, I know this plan to get disabled people working is flawed'\n",
      "u'Britain\\u2019s future in Europe lies in the hands of the Labour party'\n",
      "u'Kim Jong-nam was assassinated. But was it on his brother\\u2019s orders?'\n",
      "u'Does it matter if Google is rewiring our minds? Ask Plato'\n",
      "u\"Dark past: so little has changed in Australia's posture towards asylum seekers\"\n",
      "u'If you think Ed Miliband was too leftwing you weren\\u2019t paying attention'\n",
      "u'Facial recognition! Just one piece of our Permanent Surveillance State'\n",
      "u'What\\u2019s our priority now? Not politics but to help a neighbourhood hit by catastrophe'\n",
      "u'Anger is simmering worldwide \\u2013 and Trump and Putin just fan the flames'\n",
      "u'Jeremy Corbyn should beware his enemies \\u2013 and even more his friends'\n",
      "u\"The 'alt-right' don't belong in the American conservative tradition\"\n",
      "u'Our sickly-sweet obsession with comfort will end up killing us'\n",
      "u'The Guardian view on the new BBC board: a threat to independence'\n",
      "u'The Observer view on Greece, bailouts and the euro'\n",
      "u'Visa waiver restrictions for Iranians are motivated by hatred \\u2013\\xa0not safety'\n",
      "u'After many decades of neglect, perhaps the real \\u2018northern powerhouse\\u2019 has been and gone'\n",
      "u'Order force: the old grammar rule we all obey without realising'\n",
      "u'Why open source pharma is the path to both new and cheaper medicines'\n",
      "u'This academies plan doesn\\u2019t address schools\\u2019 real problems'\n",
      "u'Take the quiz: how much do you really know about today\\u2019s workplace?'\n",
      "u\"If President Obama doesn't commute her sentence, Chelsea Manning won't survive\"\n",
      "u'Aleppo\\u2019s people are being slaughtered. Did we learn nothing from Srebrenica?'\n",
      "u'Even Tory councillors are up in arms. Osborne should leave schools alone'\n",
      "u\"If I'd known my parents' story, who knows how much faster I could have run\"\n",
      "u'The word is out: I was a teenage astamagootis'\n",
      "u'What makes a great Labour leader?'\n",
      "u'I\\u2019ve got a northern accent but I\\u2019m not working class. So what am I?'\n",
      "u'Working-class desertion of Labour started before Corbyn'\n",
      "u'The hidden sound patterns that could overturn years of linguistic theory'\n",
      "u'I\\u2019m standing in Witney because Britain can do better than the Tories'\n",
      "u\"Facing my fear: I'm a hopeless extrovert, and I adopted a nonverbal child\"\n",
      "u'\\u2018White working class\\u2019: the label that seeks to divide and rule'\n",
      "u'The day I met the other victims of extremism: boys brainwashed to kill'\n",
      "u'Men are putting on weight \\u2013 and the diagnosis is grim'\n",
      "u'There\\u2019s no space for today\\u2019s young Einsteins'\n",
      "u'The Guardian view on Fox and O\\u2019Reilly: more bad news'\n",
      "u'You\\u2019ve been asked to have your say on the NHS. You just don\\u2019t know about it'\n",
      "u'French waiters aren\\u2019t rude, they merely demand respect'\n",
      "u'At any other time, this Trump-Farage picture would be funny'\n",
      "u'I could pay \\xa33 to have a say, but why would I intrude on Labour\\u2019s private grief?'\n",
      "u'Starbucks wants to make baristas talk about race. Show them the money'\n",
      "u'A gold star for the nurseries that have stopped being glitter bugs'\n",
      "u'Youth prisons don\\u2019t deter criminals. They enable them'\n",
      "u'This is a battle about who owns the soul of the Labour party'\n",
      "u'The Guardian view on Tim Farron\\u2019s health tax pledge: it\\u2019s not enough to love the NHS'\n",
      "u'Why are the British so reluctant to recognise our migration history?'\n",
      "u'BHS is a victim of shareholder greed'\n",
      "u\"I'm an artist and I've received grants. Want to know what I do with all that money?\"\n",
      "u'As an NHS doctor, I see lives put at risk every day'\n",
      "u'A panda rolls in the snow. We see the child we all once were'\n",
      "u\"I want Bernie Sanders to win. But it's more vital that his movement persevere\"\n",
      "u'It is possible that the world might literally end soon! I am not ready for this'\n",
      "u'Wait for a bus and then tell me the market knows best'\n",
      "u'Charlotte Rampling\\u2019s slide projector \\u2013 and the sad demise of analogue'\n",
      "u'Trump is a media troll \\u2013 so\\xa0stop feeding him'\n",
      "u'Congress must not abdicate its duty to authorize or declare war'\n",
      "u'Once tabloid humiliation was for stars. Now, as the Danczuks have learned, it\\u2019s a hazard for the political class'\n",
      "u'What is the price of tuition fees? A generation\\u2019s potential and creativity'\n",
      "u'Can we drop the term \\u2018moderate Muslim\\u2019? It\\u2019s meaningless'\n",
      "u'The bare knuckle fight over Merrick Garland could sway this election'\n",
      "u'Wagner isn\\u2019t for everyone. Not at these prices, anyway'\n",
      "u'The Tories are unstitching the tapestry of our democracy'\n",
      "u'What does Muhammad Ali tell us about the nature of modern fame?'\n",
      "u'The Guardian view on Trump on the eve: democracy is more than elections'\n",
      "u'Let\\u2019s stop being so shy about it: there is a Conservative case for redistribution'\n",
      "u'We need a strong liberal voice in UK politics. Tim Farron won\\u2019t provide it'\n",
      "u'On her flight May should read Trump\\u2019s book: the other guy is always shafted'\n",
      "u'Boko Haram\\u2019s deadly advance must be stopped, but how?'\n",
      "u'Who benefits from a chess championship boycott? Not Iranian women'\n",
      "u\"Roller derby doesn't enforce gender separation and women still rule the sport\"\n",
      "u'It\\u2019s time for Wales to start talking about independence'\n",
      "u'How to talk to your children about the Paris attacks'\n",
      "u'Tech may rule, but the human backlash is coming'\n",
      "u'To hell with sympathetic sexism. \\u2018Busy mums\\u2019 don\\u2019t need your patronising help'\n",
      "u'The Trump-Pence logo is undeniably erotic. Can it be accidental?'\n",
      "u'Jeremy Corbyn, welcome to Europe\\u2019s fight against austerity'\n",
      "u'My $50,000 medical debt was like a hydra-headed monster that ate my life'\n",
      "u'Climate change is not just an environmental issue'\n",
      "u'Will Theresa May\\u2019s \\u2018just about managing families\\u2019 fall for the rhetoric?'\n",
      "u'Bridget Jones was just like us. Not any more\\u2026'\n",
      "u'A moment that changed me: when the young man I tried to help took his life'\n",
      "u'For Jos\\xe9 Mourinho, success was a sign of his greatness. Failure was someone else\\u2019s fault'\n",
      "u'Welcome to Poundland, where life is bliss if you\\u2019re a foreign buyer'\n",
      "u'From Africa to the US to Haiti, climate change is a race issue'\n",
      "u'The EU leave campaign has dishonesty at its core \\u2013 and it hasn\\u2019t convinced us'\n",
      "u\"Don't get too excited for Meghan Markle. The British monarchy is oppressive\"\n",
      "u'Trump wants to bring jobs back. Fixing the opioid crisis is part of that task'\n",
      "u'\\u2018Value for money\\u2019 can\\u2019t be the only measure of university'\n",
      "u\"The time isn't right for Labor to recognise Palestine. This preoccupation is miscued\"\n",
      "u'The Observer view on whistleblowing'\n",
      "u\"There's a masculinity problem in football. Child sex abuse is a manifestation of that\"\n",
      "u'The Observer view on cyberbullying'\n",
      "u'I am an adjunct professor who teaches five classes. I earn less than a pet-sitter'\n",
      "u'The Guardian view on David Cameron\\u2019s \\u2018Learn English\\u2019 message: it\\u2019s finger-wagging bad'\n",
      "u'In the fanatical world of Isis, your duty is to kill and die'\n",
      "u'We need new words to explain these curious times. How about \\u2018coffused\\u2019 or \\u2018procrastinetflix\\u2019?'\n"
     ]
    },
    {
     "ename": "KeyError",
     "evalue": "'title'",
     "output_type": "error",
     "traceback": [
      "\u001b[0;31m---------------------------------------------------------------------------\u001b[0m",
      "\u001b[0;31mKeyError\u001b[0m                                  Traceback (most recent call last)",
      "\u001b[0;32m<ipython-input-24-2d5115f71ce3>\u001b[0m in \u001b[0;36m<module>\u001b[0;34m()\u001b[0m\n\u001b[1;32m      3\u001b[0m \u001b[0mcursor\u001b[0m \u001b[0;34m=\u001b[0m \u001b[0murls\u001b[0m\u001b[0;34m.\u001b[0m\u001b[0mfind\u001b[0m\u001b[0;34m(\u001b[0m\u001b[0;34m{\u001b[0m\u001b[0;34m}\u001b[0m\u001b[0;34m)\u001b[0m\u001b[0;34m\u001b[0m\u001b[0m\n\u001b[1;32m      4\u001b[0m \u001b[0;32mfor\u001b[0m \u001b[0mdocument\u001b[0m \u001b[0;32min\u001b[0m \u001b[0mcursor\u001b[0m\u001b[0;34m:\u001b[0m\u001b[0;34m\u001b[0m\u001b[0m\n\u001b[0;32m----> 5\u001b[0;31m     \u001b[0mpprint\u001b[0m\u001b[0;34m(\u001b[0m\u001b[0mdocument\u001b[0m\u001b[0;34m[\u001b[0m\u001b[0;34m'title'\u001b[0m\u001b[0;34m]\u001b[0m\u001b[0;34m)\u001b[0m\u001b[0;34m\u001b[0m\u001b[0m\n\u001b[0m",
      "\u001b[0;31mKeyError\u001b[0m: 'title'"
     ]
    }
   ],
   "source": [
    "from pprint import pprint\n",
    "\n",
    "cursor = urls.find({})\n",
    "for document in cursor: \n",
    "    pprint(document['title'])"
   ]
  },
  {
   "cell_type": "code",
   "execution_count": 37,
   "metadata": {},
   "outputs": [],
   "source": [
    "urls.find?"
   ]
  },
  {
   "cell_type": "code",
   "execution_count": null,
   "metadata": {},
   "outputs": [],
   "source": []
  }
 ],
 "metadata": {
  "kernelspec": {
   "display_name": "Python 2",
   "language": "python",
   "name": "python2"
  },
  "language_info": {
   "codemirror_mode": {
    "name": "ipython",
    "version": 2
   },
   "file_extension": ".py",
   "mimetype": "text/x-python",
   "name": "python",
   "nbconvert_exporter": "python",
   "pygments_lexer": "ipython2",
   "version": "2.7.14"
  }
 },
 "nbformat": 4,
 "nbformat_minor": 2
}
