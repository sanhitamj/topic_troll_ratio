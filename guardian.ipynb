{
 "cells": [
  {
   "cell_type": "code",
   "execution_count": 1,
   "metadata": {
    "collapsed": false
   },
   "outputs": [],
   "source": [
    "import requests\n",
    "from bs4 import BeautifulSoup "
   ]
  },
  {
   "cell_type": "code",
   "execution_count": 2,
   "metadata": {
    "collapsed": false
   },
   "outputs": [],
   "source": [
    "url = 'https://www.theguardian.com/world/2017/aug/07/anti-atheist-prejudice-secularity'\n",
    "text = requests.get(url).text"
   ]
  },
  {
   "cell_type": "markdown",
   "metadata": {
    "collapsed": false
   },
   "source": [
    "The one below is a github code for downloading comments. Do not use this; instead use a modified version of this in the cell below this one."
   ]
  },
  {
   "cell_type": "code",
   "execution_count": 4,
   "metadata": {
    "collapsed": false
   },
   "outputs": [
    {
     "name": "stdout",
     "output_type": "stream",
     "text": [
      "   _____                     _ _             _____  _      \n",
      "  / ____|                   | (_)           |  __ \\| |     \n",
      " | |  __ _   _  __ _ _ __ __| |_  __ _ _ __ | |  | | |     \n",
      " | | |_ | | | |/ _` | '__/ _` | |/ _` | '_ \\| |  | | |     \n",
      " | |__| | |_| | (_| | | | (_| | | (_| | | | | |__| | |____ \n",
      "  \\_____|\\__,_|\\__,_|_|  \\__,_|_|\\__,_|_| |_|_____/|______|\n",
      "\n",
      "Guardian Comment Downloader v.1.1 - Ingo Kleiber (05.01.2015)\n",
      "\n",
      "> Guadian Link: https://www.theguardian.com/commentisfree/2017/aug/10/will-even-white-people-die-how-to-explain-nuclear-war-to-your-kids\n",
      "> File ID: test\n",
      "[+] pageId has been retrieved (72634)\n",
      "[~] Start downloading pages ...\n",
      "[+] Page: 1 has been downloaded!\n",
      "[+] Page: 2 has been downloaded!\n",
      "[+] Page: 3 has been downloaded!\n",
      "[+] Page: 4 has been downloaded!\n",
      "[+] Page: 5 has been downloaded!\n",
      "[+] Page: 6 has been downloaded!\n",
      "[+] Page: 7 has been downloaded!\n",
      "[+] Page: 8 has been downloaded!\n",
      "[+] Page: 9 has been downloaded!\n",
      "[+] Page: 10 has been downloaded!\n",
      "[+] Page: 11 has been downloaded!\n",
      "[+] Page: 12 has been downloaded!\n",
      "[+] Page: 13 has been downloaded!\n",
      "[+] Page: 14 has been downloaded!\n",
      "[+] Page: 15 has been downloaded!\n",
      "[+] Page: 16 has been downloaded!\n",
      "[+] Page: 17 has been downloaded!\n",
      "[+] Page: 18 has been downloaded!\n",
      "[+] Page: 19 has been downloaded!\n",
      "[+] Page: 20 has been downloaded!\n",
      "[+] Page: 21 has been downloaded!\n",
      "[+] Page: 22 has been downloaded!\n",
      "[+] Page: 23 has been downloaded!\n",
      "[=] 23 pages have been downloaded in 0.38 minutes\n"
     ]
    }
   ],
   "source": [
    "import urllib2\n",
    "import re\n",
    "import time\n",
    "import sys\n",
    "\n",
    "# This script will download all comments from a Guardian (theguardian.com) article into a single .html file\n",
    "# Use 'File ID' to easily identify your file later (this could also be something like a Citavi identifier)\n",
    "# Ingo Kleiber <ikleiber@googlemail.com>\n",
    "# https://gist.github.com/IngoKl/3ebd968ef3c6da406638\n",
    "\n",
    "print \"\"\"\\\n",
    "   _____                     _ _             _____  _      \n",
    "  / ____|                   | (_)           |  __ \\| |     \n",
    " | |  __ _   _  __ _ _ __ __| |_  __ _ _ __ | |  | | |     \n",
    " | | |_ | | | |/ _` | '__/ _` | |/ _` | '_ \\| |  | | |     \n",
    " | |__| | |_| | (_| | | | (_| | | (_| | | | | |__| | |____ \n",
    "  \\_____|\\__,_|\\__,_|_|  \\__,_|_|\\__,_|_| |_|_____/|______|\n",
    "\"\"\"                                                         \n",
    "\n",
    "print 'Guardian Comment Downloader v.1.1 - Ingo Kleiber (05.01.2015)\\n'\n",
    "guardianLink = raw_input ('> Guadian Link: ')\n",
    "fileId = raw_input('> File ID: ')\n",
    "\n",
    "#Figuring out the PageId\n",
    "pageResponse = urllib2.urlopen(guardianLink)\n",
    "commentsMatch = re.search(r'/p/(.*?)\"', pageResponse.read(), re.M|re.I)\n",
    "# print \"Comments Match = \", commentsMatch()\n",
    "if commentsMatch:\n",
    "    pageId = commentsMatch.group(1)\n",
    "    print '[+] pageId has been retrieved ('+pageId+')'\n",
    "else:\n",
    "    sys.exit('[-] Could not retrieve pageId!')\n",
    "\n",
    "#Retrieving comments\n",
    "downloadCount = 1\n",
    "downloadError = 0\n",
    "\n",
    "startTime = time.time()\n",
    "fileName = 'GuardianDownload_' + pageId + '_' + str(startTime) + '_' + fileId + '.html'\n",
    "f = open(fileName, 'a')\n",
    "\n",
    "\n",
    "print '[~] Start downloading pages ...'\n",
    "while downloadError == 0:\n",
    "    try:\n",
    "        response = urllib2.urlopen('http://www.theguardian.com/discussion/p/' + pageId + '?page=' + str(downloadCount))\n",
    "        html = response.read()\n",
    "        f.write(html)\n",
    "        if downloadCount == 1:\n",
    "            soup = BeautifulSoup(html, 'html.parser')\n",
    "        print '[+] Page: ' + str(downloadCount) + ' has been downloaded!'\n",
    "        downloadCount = downloadCount + 1\n",
    "        \n",
    "    except:\n",
    "        downloadError = 1\n",
    "\n",
    "stopTime = time.time()\n",
    "runningTime = (stopTime - startTime)/60;\n",
    "print '[=] ' + str(downloadCount-1) + ' pages have been downloaded in ' + str(round(runningTime,2)) + ' minutes' \t\t\n",
    "f.close() "
   ]
  },
  {
   "cell_type": "code",
   "execution_count": 5,
   "metadata": {
    "collapsed": false
   },
   "outputs": [],
   "source": [
    "# soup = BeautifulSoup(html, 'html.parser')"
   ]
  },
  {
   "cell_type": "code",
   "execution_count": 6,
   "metadata": {
    "collapsed": false
   },
   "outputs": [],
   "source": [
    "# print soup.prettify()"
   ]
  },
  {
   "cell_type": "code",
   "execution_count": 13,
   "metadata": {
    "collapsed": false
   },
   "outputs": [],
   "source": [
    "soup.comment_body"
   ]
  },
  {
   "cell_type": "code",
   "execution_count": 25,
   "metadata": {
    "collapsed": false
   },
   "outputs": [
    {
     "name": "stdout",
     "output_type": "stream",
     "text": [
      "Reality_Man \n",
      "Again let's stick with what people understand what is the percentage of CO2 in the atmosphere? 0.04%. CO2 is not a problem. Enviormental hacks are making a living from this. All government funded.\n",
      "0 JulesBywaterLees\n",
      "WilliamHBonney \n",
      "Refundable deposits...And only one thousand dollars.\n",
      "Tesla is living off government grants- given who lives in the White House right now, that may not continue.\n",
      "0 ID9499946\n",
      "ID9499946 \n",
      "You don't just sound like a moron..\n",
      "Why don't you turn your ire on oil production? How many lives has that cost? How many people die prematurely? I suppose you are in favour of Trump reopening coal mines too?\n",
      "0 mothercourage\n",
      "ID9499946 \n",
      "Yeah but pre-orders of 500,000 for the new Tesla blows that theory out of the water - try again!\n",
      "0 WilliamHBonney\n",
      "JulesBywaterLees \n",
      "cobalt mining is a by product of copper and nickle mining- so if you object to cobalt mining then steer clear of all electrical gadgets as they contain a lot of copper.\n",
      "0 mothercourage\n",
      "JulesBywaterLees \n",
      "botox as a lethal poison for an average man = 0.000000000015% [about 0.15 micrograms]- ozone as a protective gas that allows life on Earth = 0.6ppm = 0.0006%, for short [i.e. 1- 2 years] climate change reducing global temperature = 8 ppm = 0.0008% , and volcanic gas air mixtures with as little as 0.000001% H2S are associated with a rotten egg smell. Unfortunately, however, our sense of smell is not a reliable alarm - at mixing ratios above about 0.01%, H2S becomes odorless and very toxic, causing irritation of the upper respiratory tract and, during long exposure, pulmonary edema. Exposure to 500 ppm can cause a human to fall unconscious in 5 minutes and die in an hour or less. Get na education and learn what those facts mean.\n",
      "0 Reality_Man\n",
      "Urban2 \n",
      "Neglecting that the cars are 95 % the same and that much of a diesel car is electric anyway, what was the last electric thing you bought that lasted 10 or 20 years?\n",
      "0 xwookey\n",
      "mothercourage \n",
      "You sound like a moron ! 'rubberneck' and 'WHB' just told you its all a hype, not only that but its not wanted, needed and developed in an inhumane way ! Look up Cobalt mines in DRC !You may not know what you do or say but these companies sure as hell do !Disgusting !\n",
      "1 AndrewFromOz\n",
      "mothercourage \n",
      "\n",
      "This comment was removed by a moderator because it didn't abide by our\n",
      "community standards.\n",
      "Replies may also be deleted. For more detail see our FAQs.\n",
      "0 Hank_Scorpio\n",
      "mothercourage \n",
      "Thanks, I thought it was cobalt, but being a painter I thought I'd remembered it wrong, as of course cobalt makes blue paint.\n",
      "0 jo1210\n",
      "Hank_Scorpio \n",
      "I have, and do; it's not Escape From New York, it's just a city bus.\n",
      "0 hellhounds\n",
      "jo1210 \n",
      "Ah ah, very good... I meant cobalt https://www.theguardian.com/global-development/2016/jan/19/children-as-young-as-seven-mining-cobalt-for-use-in-smartphones-says-amnesty\n",
      "0 MtEden\n",
      "xwookey \n",
      "\n",
      "The embodied energy plus fuel for 12yr/120,000 miles on an electric car is better than that of a fossil-fueled equivalent, but not by as much as people think. I read a paper on this and it's about 2/3 of a fossil-fueled vehicle as long as the battery doesn't need replacing in that time. If it does then it's about the same.\n",
      "\n",
      "Broadly correct, but it depends enormously where you are. Norway is more than 5 times better than india, due to very low carbon intensity. The UK is somewhere in the middle.http://euanmearns.com/co2-intensity-of-electric-cars/\n",
      "0 s0larm4n\n",
      "xwookey \n",
      "We use twice as much gas for heating as we would for electricity generation for all transport. So if there is enough gas for heating, then there is enough for electrical generation too.\n",
      "The catch is in fact that all that gas use needs to stop (or become syngas) in under 20 years if we want to keep temps anywhere near 2C average rise. There is plenty of gas to completely overheat the planet, so availability is not the main limitation here.\n",
      "0 mrUsed\n",
      "Mazter \n",
      "Hiya, BNEF suggested Li-ion prices would reach $73/kWh by 2030,\n",
      "The Cheap Energy Revolution Is Here, and Coal Won’t Cut It\n",
      "but I think Elon Musk suggested $100/kWh by 2020, and it may be even faster:\n",
      "Study finds that storage prices are falling faster than PV and wind technologies\n",
      "\n",
      "Energy storage projects may bring the cost per kWh of a lithium-ion battery down from $10,000/kWh in the early 1990’s to  $100/kWh in 2019, according to a new study written by a research team from University of California and TU Munich in Germany, and published in Nature Energy.\n",
      "\n",
      "And Siemens are now looking to supply batteries 'free' on the basis that payments are made against use/savings:\n",
      "Siemens’ C&I customers offered ‘no-money-down’ energy storage financing\n",
      "So looks like they are coming down pretty fast, but I think it'll be 2020 before we can really compare and contrast, but pretty safe to say now that RE + storage will be cheaper than nuclear at HPC rates, but fingers crossed for some cheap nuclear deals, you never know.\n",
      "0 xwookey\n",
      "xwookey \n",
      "I think you are ignroing the factor that an EV is 4 times as efficient at turning energy into motion. And the potential for charge-time spreading. The necessary capacity increase is under 20%, not 2.5 time: https://energy-surprises.blogspot.co.uk/2017/02/what-difference-will-electric-cars-make.htmlhttps://www.carboncommentary.com/blog/2017/7/26/100-evs-can-be-easily-accommodated-on-the-uk-grid\n",
      "0 Arcid001\n",
      "xwookey \n",
      "\n",
      "How long will it take to consume all the off-peak generating capacity?\n",
      "\n",
      "About 20 million of our 30 millions cars:https://www.carboncommentary.com/blog/2017/7/26/100-evs-can-be-easily-accommodated-on-the-uk-gridhttps://energy-surprises.blogspot.co.uk/2017/02/what-difference-will-electric-cars-make.html\n",
      "The extra demand is really quite small even for all the cars in the UK. So long as some time-shifting occurs, surprisingly little extra capacity is needed.\n",
      "0 Physiocrat\n",
      "xwookey \n",
      "Electric and bicycles (which can also be electric).\n",
      "0 Viddyvideo\n",
      "xwookey \n",
      "EVs are not silent - they are just much quieter. This will be a huge boon in our towns and cities. Walk (or cycle) beside any busy road - the noise is terrible. Most of the noise is tyre and wind noise, not engine noise. That's not going to change.\n",
      "0 Abbreviator\n",
      "xwookey \n",
      "Quite a lot of people get rid of their cars as soon as there is an expensive repair. But you are right that the correct sum is cost of replacements/maintenance. ICE cars need a great deal more maintenance, and it does look like batteries may last as long as engines did, certainly for larger battery sizes (much lower 'strain' per cell).\n",
      "1 Urban2\n",
      "xwookey \n",
      "\n",
      "Battery storage is falling faster in cost than PV and wind did\n",
      "\n",
      "Is it? I agree that it's falling. I don't agree that it's falling as fast as PV did. Wind (offshore) went up for several years before it started falling. It rose from 2009 to 2012 before starting to fall (UK study on wind prices). Battery prices are harder to find out than utility scale PV/wind, so it'sactually quite hard to know what car and storage companies are paying for their batteries. It is clear that there is strong downward pressure though. 2nd-hand modules are very cheap, but it's new prices we are really interested in.\n",
      "0 Mazter\n",
      "xwookey \n",
      "\n",
      "How are 100s of 1000s of charging stations going to appear?\n",
      "\n",
      "In people's homes, workplace's car parks and sides of streets. Everyone with a drive and an EV has a socket/charger - this way you car is full every day and you never visit a garage any more. Our workplace has chargers outside each office - with 2 more appearing last week. I think we have 14 on the site now. Car parks, supermarkets, service stations, garages, attractions. Many already have chargers and more are appearing fast.\n",
      "Electricity is everywhere - adding chargers is a great deal easier than adding filling stations was. I'm not sure why you think it's going to be a problem?\n",
      "0 ConstableFox\n",
      "Reality_Man \n",
      "Argon gas is about 1% of the atmosphere CO2 is 0.04%. Nitrogen 78% and oxygen is 21%. All facts. CO2 falls under trace gases. I am a real engineer not an enviormental engr. Which is not engineering. I have to go now and earn my 160k a year. Maybe I will see you at McDonalds. I will be the guy in the F-250 6.7L diesel 4x4 truck. You will be the one in back running the frying machine. Hash browns in the morning and fries in the afternoon. It's a job commensurate with you skills.\n",
      "0 jerjc99\n",
      "Beakers \n",
      "Lots of electric motors run in hostile environments. WWII scout cars had planetary gearboxes in their hubs that managed to work through desert and north european winters. If you are somewhere genuinely remote, then an electric car is an advantage as you dont have to go on a long trip to a filling station, or have fuel delivered. Some people genuinely do need a landrover, but far more owners just want one. Regardless, there are electric alternatives on the way. http://bollingermotors.com/http://www.bremachusa.com/electric.html\n",
      "0 centerish\n",
      "xwookey \n",
      "Did you not stop for at least a piss during this 8 hour epic? Having a half-hour break to recharge sounds like it might have been quite pleasant. And EVs are extremely efficient in crawling traffic like that. No idling loses, negligible air ristance loses. They will go twice as far as 'normal driving' range.\n",
      "0 Matt Wood\n",
      "jerjc99 \n",
      "Absolutely spot on. Global warming is a hoax, just like gravity, the round-earth theory, and the “smoking causes lung cancer” ruse. They are all hoaxes. Please continue to point out the fallacies in the green argument. We are your friends and we’d like you to join us at the Flat Earth Foundation. You are one of us.\n",
      "1 Reality_Man\n",
      "AndrewFromOz \n",
      "That's an interesting view... as a likely electric car customer in the next year or so, I'd have to disagree. I like my current petrol guzzler - it's a beautiful thing - but will happily trade high priced servicing, excessive complexity, and increasing unreliability for the relative simplicity of an oil-free, coolant-free, clutch-free, transmission-free electric machine with huge torque and acceleration and lower running costs. While Elon Musk has made an impressive dent in creating a public awareness of this likely future, and is probably not the nicest employer for sure, he's not the only player in this space, and I think the writing really is on the wall for fossil-fuel based motors. ICE based cars may survive if hydrogen tech gets going, but it hasn't happened yet, and battery tech is getting very cheap. When BMW, Mercedes, VW-Audi, Volvo, Ford and GM start agreeing with Musk, you're probably on the wrong end of the argument!\n",
      "0 WilliamHBonney\n",
      "jerjc99 \n",
      "RealityMan: Exactly. Thank you for injecting a dose of reality into the conversation. Climate change is just like the cigarette/cancer scare, it’s a hoax. I just checked our membership list; looks like you aren’t a member yet. Please join us. We are the Flat Earth Society. You are one of us RealityMan.\n",
      "0 Reality_Man\n",
      "Reality_Man \n",
      ".04% CO2. Facts are a stubborn thing. As for Botox Nancy Pelosio buys it by the truck loads I hear.\n",
      "0 JulesBywaterLees\n",
      "Reality_Man \n",
      "You see it does matter and facts are a stubborn thing. You probably learned something today and it's global warming is fantasy\n",
      "0 Dolrset46\n",
      "rubberknecker \n",
      "Correct. They might make sense if we ran our grid on non-combustion fuels ( uranium, water , wind , solar )\n",
      "1 WilliamHBonney\n",
      "rubberknecker \n",
      "Yip, it's a niche for well-heeled Greenies which makes 'em feel good. No mass market appeal.@Robot46 - the car replaced the Horse & Cart because it was a progressive step - people wanted it. It also eliminated horse dung which was a major pollution problem. The electric car is a step backwards - they lost out to the ICE in the early part of the 20th century and are only around now because of subsidies and symbolic benefits .\n",
      "1 Ed Gilroy\n",
      "rooster42 \n",
      "\n",
      "How come water fueled Hydrogen cars are not replacing fossil fuel cars? Is it like oil, the Lithium market is more lucrative?\n",
      "\n",
      "Yep, Hydrogen is like oil, you would still be going to a Hydrogen station and buying it off the oil companies, this is why no one is interested in making that mistake again, concentrating wealth in the hands of the few. Tesla will sell you the means to capture, store and consume electricity via its products of solar panels, storage batteries and electric cars, pretty neat! :)\n",
      "1 AndrewPlanet\n",
      "rubberknecker \n",
      "You are right, it is complete delusion. The only innovation Musk has created is reality disruption.\n",
      "0 WilliamHBonney\n",
      "Paul Cockburn \n",
      "If you keep the ledger narrow, I'm sure that's true. Not too many people dying from inhaling the pollution from electricity though, are there? Did you factor that into your cost analysis?\n",
      "0 polytropic\n",
      "xwookey \n",
      "\n",
      "Ever heard of birth rate?\n",
      "\n",
      "Yes, and do you know how long ago it dropped below replacement rate worldwide? \n",
      "2005. 10 years ago. Not something you hear much about. See gapminder.org for details.\n",
      "0 Rightontherise\n",
      "Rick Jones \n",
      "Second paragraph, fine, sounds reasonable. Modulo however much such things cost.\n",
      "First paragraph, yeah, that would be just peachy - drive into a bunch of water and have the fuses blow and leave one stranded....\n",
      "0 PatLogan\n",
      "xwookey \n",
      "\n",
      "as most of our energy is produced by fossil fuels\n",
      "\n",
      "Nearly half of our electricity is produced by non-fossil sources. And the intesity is 350gCO2/kWh, which makes EVs (in the UK) half the emissions of even a good modern diesel: http://euanmearns.com/mercedes-b-class-electric-and-diesel-cars-compared/\n",
      "0 Shov\n",
      "xwookey \n",
      "\n",
      "ANY party that tries to restrict the use of cars will , never, ever, ever get elected.\n",
      "\n",
      "They got elected in Norway. And parties that promote cycling (which involves some restricting of cars) in the Netherlands get elected all the time, for 40 years now. So it's not impossible.\n",
      "0 Artusov\n",
      "xwookey \n",
      "\n",
      "pretty much ALL of the autonomous vehicle development that's underway is being undertaken on ICE vehicles.\n",
      "\n",
      "You sure about that? Nearly all that I've seen is on EVs (Waymo, Nissan, Tesla). I agree that the self-driving tech is independent of the propulsion tech.\n",
      "0 PatLogan\n",
      "xwookey \n",
      "Recent evidence from real Tesla batts is showing very low degredation. At current rates they will last 25 years to 80% capacity. Smaller-batteried cars do not do so well, but all apart from leafs in hot places look to reach the 8 yrs promised.\n",
      "0 vrager\n",
      "xwookey \n",
      "Very little extra generation is needed: https://energy-surprises.blogspot.co.uk/2017/02/what-difference-will-electric-cars-make.html\n",
      "0 Miseribleoldbloke\n",
      "xwookey \n",
      "100 years of development has seen most of the efficiency gains available. ICEs are not going to get much over 25%, without at least going hybrid (constant velocity or atkinson cycle engines can help). The 95% efficiency of motors and lithium batteries means that they are very likely to take over completely, and surprisingly quickly.\n",
      "0 shahidraja\n",
      "xwookey \n",
      "Electric railways are an important part of decarbonisation. Scrapping those is daft. Fast railways replace short-haul planes (which will largely need to be banned or otherwise controlled).\n",
      "0 Gegenschein\n",
      "xwookey \n",
      "\n",
      "You could make the pavements safer by keeping the bike buggers off the dammed things.\n",
      "\n",
      "Any chance of you staying on-topic?\n",
      "0 LordTrenchard\n",
      "xwookey \n",
      "Second-hand cars won't go away when the engines change to electric. You can already get a fairly cheap '1st gen' electric car. (Nissan leaf 5-6 grand). None are £500 cars yet, but it'll happen eventually.\n",
      "1 Radvelvetshoes\n",
      "xwookey \n",
      "\n",
      "in that they still use electricity from fossil fuel power plants to charge their Lithium car batteries\n",
      "\n",
      "Depends where you are. EVs in Norway are charged from n extremely very low-carbon supply. Similarly quite low carbon in Sweden and France. In the UK an EV is twice as good as a modern ICE (58gCO2/kWh vs 106 for mercedes B-class EV vs diesel). In very coal-heavy places like Latvia, Poland or India, the EV is about the same as a good diesel.\n",
      "0 AndrewPlanet\n",
      "Andrew Beresford \n",
      "\"water fueled hydrogen cars\" do not exist. Hydrogen fueled cars do exist, but Hydrogen is just a medium for moving energy around, much like a battery. You still have to encourage it (usually using a lot of electricity) to form a compressible gas, usually through electrolysis of water. So, for hydrogen to take off - you have to produce hydrogen, distribute it and use it.\n",
      "0 AndrewPlanet\n",
      "JulesBywaterLees \n",
      "what percentage of malaria bug in the spit of a tiny mosquito that bites a human? or the dose of botox needed to kill an adult male? or the ppm of ozone to prevent ultraviolet light damaging eyes and skin ?\n",
      "0 Reality_Man\n"
     ]
    }
   ],
   "source": [
    "comments = soup.findAll(\"div\", { \"class\" : \"d-comment__body\" })\n",
    "recommends = soup.findAll(\"span\", {\"class\" : \"d-comment__recommend-count--old\"})\n",
    "users = soup.findAll(\"span\", {\"itemprop\" : \"givenName\"})\n",
    "replies = soup.findAll(\"span\", {\"class\" : \"d-comment__reply-to-author\"})\n",
    "for user, comment, recommend, reply in zip(users, comments, recommends, replies):\n",
    "    print user.text, comment.text, recommend.text, reply.text\n"
   ]
  },
  {
   "cell_type": "markdown",
   "metadata": {},
   "source": [
    "a class=\"social__action social-icon-wrapper\" data-link-name=\"social-comment : facebook\" href=\"https://www.facebook.com/dialog/share?app_id=180444840287&amp;href=https%3A%2F%2Fdiscussion.theguardian.com%2Fcomment-permalink%2F103303986&amp;quote=alexandrerizvin%20commented%3A%20%22My%20fantasy%20of%20freedom%20and%20independence%20has%20been%20to%20have%20no%20dependence%20on%20cars.%22\" target=\"_blank\">"
   ]
  },
  {
   "cell_type": "code",
   "execution_count": 1,
   "metadata": {
    "collapsed": false
   },
   "outputs": [],
   "source": [
    "# import requests\n",
    "url = \"https://www.theguardian.com/us/commentisfree\"\n",
    "\n",
    "list_of_urls = requests.get(url).text"
   ]
  },
  {
   "cell_type": "code",
   "execution_count": 2,
   "metadata": {
    "collapsed": true
   },
   "outputs": [],
   "source": [
    "# from bs4 import BeautifulSoup \n",
    "soup2 = BeautifulSoup(list_of_urls, \"html.parser\")"
   ]
  },
  {
   "cell_type": "code",
   "execution_count": 4,
   "metadata": {
    "collapsed": false
   },
   "outputs": [],
   "source": [
    "# soup2.prettify()"
   ]
  },
  {
   "cell_type": "code",
   "execution_count": 17,
   "metadata": {
    "collapsed": false
   },
   "outputs": [
    {
     "name": "stdout",
     "output_type": "stream",
     "text": [
      "https://www.theguardian.com/commentisfree/2017/aug/10/finally-democrats-are-looking-in-the-mirror-thats-reason-for-optimism\n",
      "https://www.theguardian.com/commentisfree/2017/aug/10/finally-democrats-are-looking-in-the-mirror-thats-reason-for-optimism\n",
      "https://www.theguardian.com/commentisfree/2017/aug/10/minnesota-mosque-bombing-donald-trump-silence\n",
      "https://www.theguardian.com/commentisfree/2017/aug/10/minnesota-mosque-bombing-donald-trump-silence\n",
      "https://www.theguardian.com/commentisfree/2017/aug/10/west-gripped-venezuela-ignore-brazil-jeremy-corbyn-nicolas-maduro\n",
      "https://www.theguardian.com/commentisfree/2017/aug/10/west-gripped-venezuela-ignore-brazil-jeremy-corbyn-nicolas-maduro\n",
      "https://www.theguardian.com/commentisfree/2017/aug/09/pregnancy-can-kill-right-to-chose-jessica-valenti\n",
      "https://www.theguardian.com/commentisfree/2017/aug/09/pregnancy-can-kill-right-to-chose-jessica-valenti\n",
      "https://www.theguardian.com/commentisfree/2017/aug/09/god-save-us-from-donald-trumps-fire-and-fury\n",
      "https://www.theguardian.com/commentisfree/2017/aug/09/god-save-us-from-donald-trumps-fire-and-fury\n",
      "https://www.theguardian.com/commentisfree/2017/aug/09/michael-brown-death-three-years-later-no-change\n",
      "https://www.theguardian.com/commentisfree/2017/aug/09/michael-brown-death-three-years-later-no-change\n",
      "https://www.theguardian.com/commentisfree/2017/aug/08/trump-administration-climate-change-ban-usda\n",
      "https://www.theguardian.com/commentisfree/2017/aug/08/trump-administration-climate-change-ban-usda\n",
      "https://www.theguardian.com/commentisfree/2017/aug/07/trump-out-in-year-usa-problems-just-beginning-paul-mason\n",
      "https://www.theguardian.com/commentisfree/2017/aug/07/trump-out-in-year-usa-problems-just-beginning-paul-mason\n",
      "https://www.theguardian.com/commentisfree/2017/aug/09/sinead-o-connor-reality-mental-illness\n",
      "https://www.theguardian.com/commentisfree/2017/aug/09/sinead-o-connor-reality-mental-illness\n",
      "https://www.theguardian.com/commentisfree/2017/aug/08/google-sexist-memo-alt-right-martyr-james-damore\n",
      "https://www.theguardian.com/commentisfree/2017/aug/08/google-sexist-memo-alt-right-martyr-james-damore\n",
      "https://www.theguardian.com/commentisfree/2017/aug/09/2007-financial-crisis-go-to-waste-attlee-roosevelt-economic-catastrophe\n",
      "https://www.theguardian.com/commentisfree/2017/aug/09/2007-financial-crisis-go-to-waste-attlee-roosevelt-economic-catastrophe\n",
      "https://www.theguardian.com/commentisfree/2017/aug/08/attack-darwin-evolution-science-an-wilson\n",
      "https://www.theguardian.com/commentisfree/2017/aug/08/attack-darwin-evolution-science-an-wilson\n",
      "https://www.theguardian.com/commentisfree/2017/aug/04/meat-industry-gulf-mexico-dead-zones-pollution\n",
      "https://www.theguardian.com/commentisfree/2017/aug/04/meat-industry-gulf-mexico-dead-zones-pollution\n",
      "https://www.theguardian.com/commentisfree/2017/aug/10/the-guardian-view-on-oral-history-the-power-of-witness\n",
      "https://www.theguardian.com/commentisfree/2017/aug/10/the-guardian-view-on-oral-history-the-power-of-witness\n",
      "https://www.theguardian.com/commentisfree/2017/aug/09/the-guardian-view-on-north-korea-careless-talk-costs-credibility-and-perhaps-lives\n",
      "https://www.theguardian.com/commentisfree/2017/aug/09/the-guardian-view-on-north-korea-careless-talk-costs-credibility-and-perhaps-lives\n",
      "https://www.theguardian.com/commentisfree/2017/aug/08/the-guardian-view-on-south-africa-zuma-goes-on-but-at-what-cost\n",
      "https://www.theguardian.com/commentisfree/2017/aug/08/the-guardian-view-on-south-africa-zuma-goes-on-but-at-what-cost\n",
      "https://www.theguardian.com/commentisfree/2017/jul/26/donald-trump-coward-limit-damage-jeff-sessions\n",
      "https://www.theguardian.com/commentisfree/2017/jul/26/donald-trump-coward-limit-damage-jeff-sessions\n",
      "https://www.theguardian.com/commentisfree/2017/aug/09/michael-brown-death-three-years-later-no-change\n",
      "https://www.theguardian.com/commentisfree/2017/aug/09/michael-brown-death-three-years-later-no-change\n",
      "https://www.theguardian.com/commentisfree/2017/aug/10/finally-democrats-are-looking-in-the-mirror-thats-reason-for-optimism\n",
      "https://www.theguardian.com/commentisfree/2017/aug/10/finally-democrats-are-looking-in-the-mirror-thats-reason-for-optimism\n",
      "https://www.theguardian.com/commentisfree/2017/feb/13/chelsea-manning-prison-sentence-commutation\n",
      "https://www.theguardian.com/commentisfree/2017/feb/13/chelsea-manning-prison-sentence-commutation\n",
      "https://www.theguardian.com/commentisfree/2017/jun/29/trump-sleazy-reporter-awkward-laugh-felt-all-too-familiar\n",
      "https://www.theguardian.com/commentisfree/2017/jun/29/trump-sleazy-reporter-awkward-laugh-felt-all-too-familiar\n",
      "https://www.theguardian.com/commentisfree/2017/may/31/ice-agents-out-of-control-immigration-arrests\n",
      "https://www.theguardian.com/commentisfree/2017/may/31/ice-agents-out-of-control-immigration-arrests\n",
      "https://www.theguardian.com/commentisfree/2017/aug/10/minnesota-mosque-bombing-donald-trump-silence\n",
      "https://www.theguardian.com/commentisfree/2017/aug/10/your-child-isnt-amazing\n",
      "https://www.theguardian.com/commentisfree/2017/aug/10/finally-democrats-are-looking-in-the-mirror-thats-reason-for-optimism\n",
      "https://www.theguardian.com/commentisfree/2017/aug/10/west-gripped-venezuela-ignore-brazil-jeremy-corbyn-nicolas-maduro\n",
      "https://www.theguardian.com/commentisfree/2017/aug/10/will-even-white-people-die-how-to-explain-nuclear-war-to-your-kids\n",
      "https://www.theguardian.com/commentisfree/2017/aug/10/five-handy-tips-survival-apocalypse-donald-trump-kim-jong-un\n",
      "https://www.theguardian.com/commentisfree/2017/aug/09/google-memo-man-women-tech-original-computer-programmers\n",
      "https://www.theguardian.com/commentisfree/2017/aug/10/london-jogger-barges-woman-urban-pavements\n",
      "https://www.theguardian.com/commentisfree/2017/aug/09/sinead-o-connor-reality-mental-illness\n",
      "53\n"
     ]
    }
   ],
   "source": [
    "import re\n",
    "i = 0\n",
    "for link in soup2.findAll('a', attrs={'href': re.compile(\"https://www.theguardian.com/commentisfree/2017\")}):\n",
    "    print link.get('href')\n",
    "    i += 1\n",
    "print i"
   ]
  },
  {
   "cell_type": "code",
   "execution_count": null,
   "metadata": {
    "collapsed": true
   },
   "outputs": [],
   "source": []
  }
 ],
 "metadata": {
  "kernelspec": {
   "display_name": "Python 2",
   "language": "python",
   "name": "python2"
  },
  "language_info": {
   "codemirror_mode": {
    "name": "ipython",
    "version": 2
   },
   "file_extension": ".py",
   "mimetype": "text/x-python",
   "name": "python",
   "nbconvert_exporter": "python",
   "pygments_lexer": "ipython2",
   "version": "2.7.13"
  }
 },
 "nbformat": 4,
 "nbformat_minor": 2
}
